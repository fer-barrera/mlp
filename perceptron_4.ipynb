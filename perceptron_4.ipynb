{
 "cells": [
  {
   "cell_type": "markdown",
   "id": "c5f4c055-d3be-4270-b0a3-5ece176aff7e",
   "metadata": {},
   "source": [
    "# Perceptrón multicapa\n",
    "**MultiLayer Perceptron (MLP)**\n",
    "\n",
    "*Caso dos entradas y una salid*\n",
    "\n",
    "---"
   ]
  },
  {
   "cell_type": "markdown",
   "id": "25787e0f-2dd6-475b-a932-866b09c196b5",
   "metadata": {},
   "source": [
    "<div class=\"alert alert-block alert-info\">\n",
    "<b>⚠️ Observación:</b> Con la finalidad de mantener el código limpio y fácil de entender esté notebook <b>no</b> implementa ningún tipo de verificación de los datos de entrada/salida, control de errores, o manejo de excepciones. Recuerde que en aplicaciones comerciales, dichos controles se <b>debe</b> implementar para garantizar la robustez, calidad y estabilidad del código.\n",
    "</div>"
   ]
  },
  {
   "cell_type": "markdown",
   "id": "f1ebba1a-465c-4fb0-8093-063965cf9661",
   "metadata": {},
   "source": [
    "## Clasificación con Perceptrones Multicapa"
   ]
  },
  {
   "cell_type": "markdown",
   "id": "c88df1ee-a9b8-4a83-99d8-15369bb4dd52",
   "metadata": {},
   "source": [
    "## 1. Importación de librerias\n",
    "\n",
    "Importación de las librerías necesarias. Usaremos la clase `MLPClassifier` de `sklearn.linear_model` para instanciar el modelo neuronal."
   ]
  },
  {
   "cell_type": "code",
   "execution_count": null,
   "id": "8b49657b-f2b9-4bf1-b532-2e37c7c37c6b",
   "metadata": {},
   "outputs": [],
   "source": [
    "import numpy as np\n",
    "import matplotlib.pyplot as plt\n",
    "from sklearn.neural_network import MLPClassifier\n",
    "from sklearn.metrics import accuracy_score"
   ]
  },
  {
   "cell_type": "markdown",
   "id": "b5dcb4de-3e54-49a3-afce-90bef380499f",
   "metadata": {},
   "source": [
    "## 2. Datos de entrenamiento ($X$)\n",
    "\n",
    "Datos de entrada y etiquetas"
   ]
  },
  {
   "cell_type": "code",
   "execution_count": null,
   "id": "3af5b304-6754-4bc6-8f85-5798df8c4e7c",
   "metadata": {},
   "outputs": [],
   "source": [
    "X = np.array([\n",
    "    [0, 0],\n",
    "    [0, 1],\n",
    "    [1, 0],\n",
    "    [1, 1]\n",
    "])\n",
    "\n",
    "y = np.array([0, 1, 1, 0])"
   ]
  },
  {
   "cell_type": "markdown",
   "id": "46db5d1b-98d4-4ad9-86d3-0891aed3574f",
   "metadata": {},
   "source": [
    "## 3. Red neuronal"
   ]
  },
  {
   "cell_type": "code",
   "execution_count": null,
   "id": "01947d81-0b4c-466c-ba12-cf3cb4b22093",
   "metadata": {},
   "outputs": [],
   "source": [
    "# Crear modelo\n",
    "mlp = MLPClassifier(\n",
    "    hidden_layer_sizes=(2,),  # 1 capa oculta con 2 neuronas\n",
    "    activation='tanh',        \n",
    "    solver='sgd',             \n",
    "    max_iter=10000\n",
    ")\n",
    "\n",
    "# Entrena el modelo\n",
    "mlp.fit(X, y)"
   ]
  },
  {
   "cell_type": "markdown",
   "id": "2f5b4fbe-bc75-46e2-acc4-a144212ccede",
   "metadata": {},
   "source": [
    "## 4. Validación del modelo"
   ]
  },
  {
   "cell_type": "code",
   "execution_count": null,
   "id": "7820d1ca-746a-43e1-bde8-8b3af74d46b9",
   "metadata": {},
   "outputs": [],
   "source": [
    "# prediccion\n",
    "y_pred = mlp.predict(X)"
   ]
  },
  {
   "cell_type": "code",
   "execution_count": null,
   "id": "0349ed1e-4761-4fe5-8c83-57ccb5c3eeec",
   "metadata": {},
   "outputs": [],
   "source": [
    "# exactitud\n",
    "accuracy = accuracy_score(y, y_pred)\n",
    "\n",
    "print(\"Predicciones del modelo:\", y_pred)\n",
    "print(\"Exactitud del modelo en entrenamiento:\", accuracy)"
   ]
  },
  {
   "cell_type": "markdown",
   "id": "e19949e8-c65a-4946-9529-5d9c111cd050",
   "metadata": {},
   "source": [
    "## 5. Visualización de patrones y fronteras de decisión de la capa oculta"
   ]
  },
  {
   "cell_type": "code",
   "execution_count": null,
   "id": "0cbf0a17-c063-4519-86d0-c34676543e27",
   "metadata": {},
   "outputs": [],
   "source": [
    "# Recuperamos los pesos y bias de la capa de entrada -> capa oculta\n",
    "# mlp.coefs_[0] tiene forma (n_features, n_neuronas_ocultas) = (2, 2)\n",
    "# mlp.intercepts_[0] tiene forma (n_neuronas_ocultas,) = (2,)\n",
    "w_hidden = mlp.coefs_[0]\n",
    "b_hidden = mlp.intercepts_[0]"
   ]
  },
  {
   "cell_type": "code",
   "execution_count": null,
   "id": "b774a4de-94cb-4d9a-a291-30c65466b796",
   "metadata": {},
   "outputs": [],
   "source": [
    "# Graficamos los patrones de entrada\n",
    "plt.figure(figsize=(7, 5))\n",
    "for (x1, x2), label in zip(X, y):\n",
    "    color = 'red' if label == 0 else 'blue'\n",
    "    plt.scatter(x1, x2, c=color, s=100, edgecolor='k')\n",
    "\n",
    "# Creamos un rango para x1 en la gráfica\n",
    "x_range = np.linspace(np.min(X)-0.5, np.max(X)+0.5, 200)\n",
    "\n",
    "# Para cada neurona de la capa oculta, calculamos su frontera\n",
    "for i in range(w_hidden.shape[1]):\n",
    "    w0 = w_hidden[0, i]\n",
    "    w1 = w_hidden[1, i]\n",
    "    b  = b_hidden[i]\n",
    "    \n",
    "    # Evitamos división entre cero (por si w1 ~ 0)\n",
    "    if np.abs(w1) < 1e-9:\n",
    "        # Si w1 es muy pequeño, la frontera es x1 = constante\n",
    "        x_const = -b / w0\n",
    "        plt.axvline(x=x_const, label=f'Frontera Neurona {i+1}', linestyle='--')\n",
    "    else:\n",
    "        # x2 = -(w0/w1)*x1 - b/w1\n",
    "        y_line = -(w0 / w1) * x_range - (b / w1)\n",
    "        plt.plot(x_range, y_line, label=f'Frontera Neurona {i+1}', linestyle='--')\n",
    "\n",
    "plt.title(f\"Patrones de entrenamiento y fronteras de decisión (capa oculta) (acc={accuracy})\")\n",
    "plt.xlabel(\"x1\")\n",
    "plt.ylabel(\"x2\")\n",
    "plt.xlim(-0.5, 1.5)\n",
    "plt.ylim(-0.5, 1.5)\n",
    "plt.legend()\n",
    "plt.grid(True)\n",
    "plt.show()"
   ]
  }
 ],
 "metadata": {
  "kernelspec": {
   "display_name": "ai-kernel",
   "language": "python",
   "name": "ai-kernel"
  },
  "language_info": {
   "codemirror_mode": {
    "name": "ipython",
    "version": 3
   },
   "file_extension": ".py",
   "mimetype": "text/x-python",
   "name": "python",
   "nbconvert_exporter": "python",
   "pygments_lexer": "ipython3",
   "version": "3.8.20"
  }
 },
 "nbformat": 4,
 "nbformat_minor": 5
}
