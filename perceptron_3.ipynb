{
 "cells": [
  {
   "cell_type": "markdown",
   "id": "28e79b59-2f8d-4651-b2d7-61d17f5fcdf7",
   "metadata": {},
   "source": [
    "# Perceptrón simple\n",
    "**Caso dos entradas y una salida.**\n",
    "\n",
    "***"
   ]
  },
  {
   "cell_type": "markdown",
   "id": "66291783-d259-4165-af23-2193dd8bb847",
   "metadata": {},
   "source": [
    "<div class=\"alert alert-block alert-info\">\n",
    "<b>⚠️ Observación:</b> Con la finalidad de mantener el código limpio y fácil de entender esté notebook <b>no</b> implementa ningún tipo de verificación de los datos de entrada/salida, control de errores, o manejo de excepciones. Recuerde que en aplicaciones comerciales, dichos controles se <b>debe</b> implementar para garantizar la robustez, calidad y estabilidad del código.\n",
    "</div>"
   ]
  },
  {
   "cell_type": "markdown",
   "id": "f42921cb-3617-4733-83ac-673c1d43356b",
   "metadata": {},
   "source": [
    "## 1. Importación de librerias\n",
    "\n",
    "Importación de las librerías necesarias. Usaremos la clase `Perceptron` de `sklearn.linear_model` para instanciar el modelo neuronal."
   ]
  },
  {
   "cell_type": "code",
   "execution_count": null,
   "id": "06558293-4a5c-40f1-88f4-941528668af1",
   "metadata": {},
   "outputs": [],
   "source": [
    "from sklearn.linear_model import Perceptron\n",
    "from sklearn.metrics import accuracy_score\n",
    "import numpy as np"
   ]
  },
  {
   "cell_type": "markdown",
   "id": "11713b88-9419-48ad-acc9-65bad9d5462e",
   "metadata": {},
   "source": [
    "## 2. Datos de entrenamiento\n",
    "\n",
    "### 2.1. Datos de entrada ($X$)\n",
    "\n",
    "Cada par corresponde a las entradas $[A, B]$"
   ]
  },
  {
   "cell_type": "code",
   "execution_count": null,
   "id": "7d3b3c0f-bbf4-4d7d-8d3e-0520632df5e3",
   "metadata": {},
   "outputs": [],
   "source": [
    "X = np.array([\n",
    "    [0, 0],\n",
    "    [0, 1],\n",
    "    [1, 0],\n",
    "    [1, 1]\n",
    "])"
   ]
  },
  {
   "cell_type": "markdown",
   "id": "280d2b36-f240-4e3b-831a-9efb590be9da",
   "metadata": {},
   "source": [
    "### 2.2. Etiquetas o salidas deseadas ($y$)"
   ]
  },
  {
   "cell_type": "code",
   "execution_count": null,
   "id": "0957e595-3682-4060-82f1-210f01330023",
   "metadata": {},
   "outputs": [],
   "source": [
    "y = np.array([0, 0, 0, 1])"
   ]
  },
  {
   "cell_type": "markdown",
   "id": "8fab801d-9bd7-4168-ae49-fc746914ff8d",
   "metadata": {},
   "source": [
    "## 3. Modelo Perceptrón\n",
    "\n",
    "Modelo por defecto, número máximo de iteraciones $1000$"
   ]
  },
  {
   "cell_type": "code",
   "execution_count": null,
   "id": "18097270-55e3-47d0-b3bd-c671945ae2a6",
   "metadata": {},
   "outputs": [],
   "source": [
    "clf = Perceptron(max_iter=1000)"
   ]
  },
  {
   "cell_type": "markdown",
   "id": "285fbf44-cd66-4cbe-922e-6fe7c2846a1e",
   "metadata": {},
   "source": [
    "## 4. Entrenamiento del modelo"
   ]
  },
  {
   "cell_type": "code",
   "execution_count": null,
   "id": "62c20058-01c5-4f89-bfa6-0611bcf1ea66",
   "metadata": {},
   "outputs": [],
   "source": [
    "clf.fit(X, y)"
   ]
  },
  {
   "cell_type": "markdown",
   "id": "e6bd6d07-c43e-4d89-82a5-66cb8ef4fbf0",
   "metadata": {},
   "source": [
    "## 5. Validación del modelo\n",
    "\n",
    "Verificamos las predicciones en los mismos puntos de entrenamiento"
   ]
  },
  {
   "cell_type": "code",
   "execution_count": null,
   "id": "3cc01c7b-4eee-4936-8753-1ae252602816",
   "metadata": {},
   "outputs": [],
   "source": [
    "y_pred = clf.predict(X)\n",
    "\n",
    "# Imprimimos la información fila por fila\n",
    "print(\"Resultados de entrenamiento (entrada, salida deseadas, salida predicha):\")\n",
    "for entrada, salida_deseadas, salida_predicha in zip(X, y, y_pred):\n",
    "    print(f\"  Entrada: {entrada}, Salida predicha: {salida_predicha}, Salida deseada: {salida_deseadas},\")"
   ]
  },
  {
   "cell_type": "markdown",
   "id": "8c21ba82-56da-4ee9-b130-9e5ac959133c",
   "metadata": {},
   "source": [
    "## 6. Exactitud del modelo"
   ]
  },
  {
   "cell_type": "code",
   "execution_count": null,
   "id": "2f92ab89-5ef4-4a2d-81d3-6b8717375638",
   "metadata": {},
   "outputs": [],
   "source": [
    "# 1. Obtener la accuracy con el método 'score'\n",
    "accuracy_model = clf.score(X, y)\n",
    "\n",
    "# 2. Obtener la accuracy usando accuracy_score\n",
    "accuracy_metrics = accuracy_score(y, y_pred)\n",
    "\n",
    "print(f\"\\nAccuracy (método 'score'): {accuracy_model}\")\n",
    "print(f\"Accuracy (métrica 'accuracy_score'): {accuracy_metrics}\")"
   ]
  },
  {
   "cell_type": "markdown",
   "id": "4426674c-3248-420a-8cf2-3a89f429133b",
   "metadata": {},
   "source": [
    "## 7. Preguntas orientadoras\n",
    "\n",
    "- ¿Cual es función lógica que ha aprendido el perceptrón?\n",
    "- En un plano 2D, representa las entradas de la `clase 0` con puntos rojos y las de la `clase 1` con puntos azules.\n",
    "- Intente entrenar un perceptrón que aprenda la operación lógica XOR con dos entradas."
   ]
  }
 ],
 "metadata": {
  "kernelspec": {
   "display_name": "ai-kernel",
   "language": "python",
   "name": "ai-kernel"
  },
  "language_info": {
   "codemirror_mode": {
    "name": "ipython",
    "version": 3
   },
   "file_extension": ".py",
   "mimetype": "text/x-python",
   "name": "python",
   "nbconvert_exporter": "python",
   "pygments_lexer": "ipython3",
   "version": "3.8.20"
  }
 },
 "nbformat": 4,
 "nbformat_minor": 5
}
